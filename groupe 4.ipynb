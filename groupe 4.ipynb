{
 "cells": [
  {
   "cell_type": "code",
   "execution_count": 1,
   "id": "8afa0b15",
   "metadata": {},
   "outputs": [],
   "source": [
    "import numpy as np\n",
    "import matplotlib.pyplot as plt\n",
    "import pandas as pd\n",
    "from sklearn.tree import DecisionTreeClassifier\n",
    "from sklearn.ensemble import RandomForestClassifier\n",
    "from sklearn.model_selection import train_test_split\n",
    "from sklearn.metrics import accuracy_score"
   ]
  },
  {
   "cell_type": "code",
   "execution_count": 2,
   "id": "3f270a94",
   "metadata": {},
   "outputs": [
    {
     "data": {
      "text/html": [
       "<div>\n",
       "<style scoped>\n",
       "    .dataframe tbody tr th:only-of-type {\n",
       "        vertical-align: middle;\n",
       "    }\n",
       "\n",
       "    .dataframe tbody tr th {\n",
       "        vertical-align: top;\n",
       "    }\n",
       "\n",
       "    .dataframe thead th {\n",
       "        text-align: right;\n",
       "    }\n",
       "</style>\n",
       "<table border=\"1\" class=\"dataframe\">\n",
       "  <thead>\n",
       "    <tr style=\"text-align: right;\">\n",
       "      <th></th>\n",
       "      <th>Unnamed: 0</th>\n",
       "      <th>p_before</th>\n",
       "      <th>p_chamber_pressure_predischarge</th>\n",
       "      <th>t_cd_discharge_request</th>\n",
       "      <th>U_Bt_final</th>\n",
       "      <th>U_CD_final</th>\n",
       "      <th>b_plasma</th>\n",
       "    </tr>\n",
       "  </thead>\n",
       "  <tbody>\n",
       "    <tr>\n",
       "      <th>0</th>\n",
       "      <td>40000</td>\n",
       "      <td>0.90</td>\n",
       "      <td>94.1</td>\n",
       "      <td>1500.0</td>\n",
       "      <td>1005.0</td>\n",
       "      <td>529.0</td>\n",
       "      <td>0.0</td>\n",
       "    </tr>\n",
       "    <tr>\n",
       "      <th>1</th>\n",
       "      <td>40001</td>\n",
       "      <td>0.92</td>\n",
       "      <td>16.3</td>\n",
       "      <td>1500.0</td>\n",
       "      <td>1009.0</td>\n",
       "      <td>513.0</td>\n",
       "      <td>1.0</td>\n",
       "    </tr>\n",
       "    <tr>\n",
       "      <th>2</th>\n",
       "      <td>40002</td>\n",
       "      <td>0.93</td>\n",
       "      <td>25.7</td>\n",
       "      <td>1500.0</td>\n",
       "      <td>1018.0</td>\n",
       "      <td>520.0</td>\n",
       "      <td>1.0</td>\n",
       "    </tr>\n",
       "    <tr>\n",
       "      <th>3</th>\n",
       "      <td>40003</td>\n",
       "      <td>0.93</td>\n",
       "      <td>28.3</td>\n",
       "      <td>1500.0</td>\n",
       "      <td>1013.0</td>\n",
       "      <td>516.0</td>\n",
       "      <td>1.0</td>\n",
       "    </tr>\n",
       "    <tr>\n",
       "      <th>4</th>\n",
       "      <td>40004</td>\n",
       "      <td>0.92</td>\n",
       "      <td>19.5</td>\n",
       "      <td>1500.0</td>\n",
       "      <td>1019.0</td>\n",
       "      <td>628.0</td>\n",
       "      <td>1.0</td>\n",
       "    </tr>\n",
       "  </tbody>\n",
       "</table>\n",
       "</div>"
      ],
      "text/plain": [
       "   Unnamed: 0  p_before  p_chamber_pressure_predischarge   \n",
       "0       40000      0.90                             94.1  \\\n",
       "1       40001      0.92                             16.3   \n",
       "2       40002      0.93                             25.7   \n",
       "3       40003      0.93                             28.3   \n",
       "4       40004      0.92                             19.5   \n",
       "\n",
       "   t_cd_discharge_request  U_Bt_final  U_CD_final  b_plasma  \n",
       "0                  1500.0      1005.0       529.0       0.0  \n",
       "1                  1500.0      1009.0       513.0       1.0  \n",
       "2                  1500.0      1018.0       520.0       1.0  \n",
       "3                  1500.0      1013.0       516.0       1.0  \n",
       "4                  1500.0      1019.0       628.0       1.0  "
      ]
     },
     "execution_count": 2,
     "metadata": {},
     "output_type": "execute_result"
    }
   ],
   "source": [
    "data=pd.read_csv(\"data_g4.csv\")\n",
    "data.head()"
   ]
  },
  {
   "cell_type": "code",
   "execution_count": 3,
   "id": "192bfe14",
   "metadata": {},
   "outputs": [
    {
     "data": {
      "text/html": [
       "<div>\n",
       "<style scoped>\n",
       "    .dataframe tbody tr th:only-of-type {\n",
       "        vertical-align: middle;\n",
       "    }\n",
       "\n",
       "    .dataframe tbody tr th {\n",
       "        vertical-align: top;\n",
       "    }\n",
       "\n",
       "    .dataframe thead th {\n",
       "        text-align: right;\n",
       "    }\n",
       "</style>\n",
       "<table border=\"1\" class=\"dataframe\">\n",
       "  <thead>\n",
       "    <tr style=\"text-align: right;\">\n",
       "      <th></th>\n",
       "      <th>Unnamed: 0</th>\n",
       "      <th>p_before</th>\n",
       "      <th>p_chamber_pressure_predischarge</th>\n",
       "      <th>t_cd_discharge_request</th>\n",
       "      <th>U_Bt_final</th>\n",
       "      <th>U_CD_final</th>\n",
       "      <th>b_plasma</th>\n",
       "    </tr>\n",
       "  </thead>\n",
       "  <tbody>\n",
       "    <tr>\n",
       "      <th>count</th>\n",
       "      <td>2046.000000</td>\n",
       "      <td>1961.000000</td>\n",
       "      <td>2022.000000</td>\n",
       "      <td>2006.000000</td>\n",
       "      <td>1978.000000</td>\n",
       "      <td>1977.000000</td>\n",
       "      <td>1930.00000</td>\n",
       "    </tr>\n",
       "    <tr>\n",
       "      <th>mean</th>\n",
       "      <td>41151.452102</td>\n",
       "      <td>2260.770260</td>\n",
       "      <td>2729.611429</td>\n",
       "      <td>884.748754</td>\n",
       "      <td>766.542467</td>\n",
       "      <td>441.013657</td>\n",
       "      <td>0.58342</td>\n",
       "    </tr>\n",
       "    <tr>\n",
       "      <th>std</th>\n",
       "      <td>658.119319</td>\n",
       "      <td>24363.030356</td>\n",
       "      <td>26610.131726</td>\n",
       "      <td>1282.238654</td>\n",
       "      <td>363.333755</td>\n",
       "      <td>196.897467</td>\n",
       "      <td>0.49312</td>\n",
       "    </tr>\n",
       "    <tr>\n",
       "      <th>min</th>\n",
       "      <td>40000.000000</td>\n",
       "      <td>0.710000</td>\n",
       "      <td>0.770000</td>\n",
       "      <td>-500.000000</td>\n",
       "      <td>0.000000</td>\n",
       "      <td>0.000000</td>\n",
       "      <td>0.00000</td>\n",
       "    </tr>\n",
       "    <tr>\n",
       "      <th>25%</th>\n",
       "      <td>40604.250000</td>\n",
       "      <td>0.920000</td>\n",
       "      <td>5.390000</td>\n",
       "      <td>1.000000</td>\n",
       "      <td>719.000000</td>\n",
       "      <td>383.000000</td>\n",
       "      <td>0.00000</td>\n",
       "    </tr>\n",
       "    <tr>\n",
       "      <th>50%</th>\n",
       "      <td>41159.500000</td>\n",
       "      <td>1.320000</td>\n",
       "      <td>11.200000</td>\n",
       "      <td>1000.000000</td>\n",
       "      <td>815.000000</td>\n",
       "      <td>500.000000</td>\n",
       "      <td>1.00000</td>\n",
       "    </tr>\n",
       "    <tr>\n",
       "      <th>75%</th>\n",
       "      <td>41730.750000</td>\n",
       "      <td>2.090000</td>\n",
       "      <td>19.000000</td>\n",
       "      <td>1000.000000</td>\n",
       "      <td>1005.000000</td>\n",
       "      <td>526.000000</td>\n",
       "      <td>1.00000</td>\n",
       "    </tr>\n",
       "    <tr>\n",
       "      <th>max</th>\n",
       "      <td>42246.000000</td>\n",
       "      <td>430000.000000</td>\n",
       "      <td>430000.000000</td>\n",
       "      <td>20000.000000</td>\n",
       "      <td>1307.000000</td>\n",
       "      <td>964.000000</td>\n",
       "      <td>1.00000</td>\n",
       "    </tr>\n",
       "  </tbody>\n",
       "</table>\n",
       "</div>"
      ],
      "text/plain": [
       "         Unnamed: 0       p_before  p_chamber_pressure_predischarge   \n",
       "count   2046.000000    1961.000000                      2022.000000  \\\n",
       "mean   41151.452102    2260.770260                      2729.611429   \n",
       "std      658.119319   24363.030356                     26610.131726   \n",
       "min    40000.000000       0.710000                         0.770000   \n",
       "25%    40604.250000       0.920000                         5.390000   \n",
       "50%    41159.500000       1.320000                        11.200000   \n",
       "75%    41730.750000       2.090000                        19.000000   \n",
       "max    42246.000000  430000.000000                    430000.000000   \n",
       "\n",
       "       t_cd_discharge_request   U_Bt_final   U_CD_final    b_plasma  \n",
       "count             2006.000000  1978.000000  1977.000000  1930.00000  \n",
       "mean               884.748754   766.542467   441.013657     0.58342  \n",
       "std               1282.238654   363.333755   196.897467     0.49312  \n",
       "min               -500.000000     0.000000     0.000000     0.00000  \n",
       "25%                  1.000000   719.000000   383.000000     0.00000  \n",
       "50%               1000.000000   815.000000   500.000000     1.00000  \n",
       "75%               1000.000000  1005.000000   526.000000     1.00000  \n",
       "max              20000.000000  1307.000000   964.000000     1.00000  "
      ]
     },
     "execution_count": 3,
     "metadata": {},
     "output_type": "execute_result"
    }
   ],
   "source": [
    "data.describe()"
   ]
  },
  {
   "cell_type": "code",
   "execution_count": 4,
   "id": "386d0ca0",
   "metadata": {},
   "outputs": [
    {
     "data": {
      "text/html": [
       "<div>\n",
       "<style scoped>\n",
       "    .dataframe tbody tr th:only-of-type {\n",
       "        vertical-align: middle;\n",
       "    }\n",
       "\n",
       "    .dataframe tbody tr th {\n",
       "        vertical-align: top;\n",
       "    }\n",
       "\n",
       "    .dataframe thead th {\n",
       "        text-align: right;\n",
       "    }\n",
       "</style>\n",
       "<table border=\"1\" class=\"dataframe\">\n",
       "  <thead>\n",
       "    <tr style=\"text-align: right;\">\n",
       "      <th></th>\n",
       "      <th>Unnamed: 0</th>\n",
       "      <th>p_before</th>\n",
       "      <th>p_chamber_pressure_predischarge</th>\n",
       "      <th>t_cd_discharge_request</th>\n",
       "      <th>U_Bt_final</th>\n",
       "      <th>U_CD_final</th>\n",
       "      <th>b_plasma</th>\n",
       "    </tr>\n",
       "  </thead>\n",
       "  <tbody>\n",
       "    <tr>\n",
       "      <th>count</th>\n",
       "      <td>1821.000000</td>\n",
       "      <td>1821.000000</td>\n",
       "      <td>1821.000000</td>\n",
       "      <td>1821.000000</td>\n",
       "      <td>1821.000000</td>\n",
       "      <td>1821.000000</td>\n",
       "      <td>1821.000000</td>\n",
       "    </tr>\n",
       "    <tr>\n",
       "      <th>mean</th>\n",
       "      <td>41185.871499</td>\n",
       "      <td>1473.244152</td>\n",
       "      <td>1492.415277</td>\n",
       "      <td>880.724876</td>\n",
       "      <td>802.277869</td>\n",
       "      <td>459.174629</td>\n",
       "      <td>0.604064</td>\n",
       "    </tr>\n",
       "    <tr>\n",
       "      <th>std</th>\n",
       "      <td>675.164157</td>\n",
       "      <td>18809.335227</td>\n",
       "      <td>18847.688089</td>\n",
       "      <td>1338.923514</td>\n",
       "      <td>337.419348</td>\n",
       "      <td>181.891884</td>\n",
       "      <td>0.489185</td>\n",
       "    </tr>\n",
       "    <tr>\n",
       "      <th>min</th>\n",
       "      <td>40000.000000</td>\n",
       "      <td>0.710000</td>\n",
       "      <td>0.770000</td>\n",
       "      <td>-500.000000</td>\n",
       "      <td>0.000000</td>\n",
       "      <td>0.000000</td>\n",
       "      <td>0.000000</td>\n",
       "    </tr>\n",
       "    <tr>\n",
       "      <th>25%</th>\n",
       "      <td>40627.000000</td>\n",
       "      <td>0.920000</td>\n",
       "      <td>5.580000</td>\n",
       "      <td>0.000000</td>\n",
       "      <td>801.000000</td>\n",
       "      <td>419.000000</td>\n",
       "      <td>0.000000</td>\n",
       "    </tr>\n",
       "    <tr>\n",
       "      <th>50%</th>\n",
       "      <td>41271.000000</td>\n",
       "      <td>1.300000</td>\n",
       "      <td>11.200000</td>\n",
       "      <td>1000.000000</td>\n",
       "      <td>817.000000</td>\n",
       "      <td>503.000000</td>\n",
       "      <td>1.000000</td>\n",
       "    </tr>\n",
       "    <tr>\n",
       "      <th>75%</th>\n",
       "      <td>41783.000000</td>\n",
       "      <td>2.070000</td>\n",
       "      <td>18.700000</td>\n",
       "      <td>1000.000000</td>\n",
       "      <td>1009.000000</td>\n",
       "      <td>527.000000</td>\n",
       "      <td>1.000000</td>\n",
       "    </tr>\n",
       "    <tr>\n",
       "      <th>max</th>\n",
       "      <td>42246.000000</td>\n",
       "      <td>277000.000000</td>\n",
       "      <td>277000.000000</td>\n",
       "      <td>20000.000000</td>\n",
       "      <td>1307.000000</td>\n",
       "      <td>964.000000</td>\n",
       "      <td>1.000000</td>\n",
       "    </tr>\n",
       "  </tbody>\n",
       "</table>\n",
       "</div>"
      ],
      "text/plain": [
       "         Unnamed: 0       p_before  p_chamber_pressure_predischarge   \n",
       "count   1821.000000    1821.000000                      1821.000000  \\\n",
       "mean   41185.871499    1473.244152                      1492.415277   \n",
       "std      675.164157   18809.335227                     18847.688089   \n",
       "min    40000.000000       0.710000                         0.770000   \n",
       "25%    40627.000000       0.920000                         5.580000   \n",
       "50%    41271.000000       1.300000                        11.200000   \n",
       "75%    41783.000000       2.070000                        18.700000   \n",
       "max    42246.000000  277000.000000                    277000.000000   \n",
       "\n",
       "       t_cd_discharge_request   U_Bt_final   U_CD_final     b_plasma  \n",
       "count             1821.000000  1821.000000  1821.000000  1821.000000  \n",
       "mean               880.724876   802.277869   459.174629     0.604064  \n",
       "std               1338.923514   337.419348   181.891884     0.489185  \n",
       "min               -500.000000     0.000000     0.000000     0.000000  \n",
       "25%                  0.000000   801.000000   419.000000     0.000000  \n",
       "50%               1000.000000   817.000000   503.000000     1.000000  \n",
       "75%               1000.000000  1009.000000   527.000000     1.000000  \n",
       "max              20000.000000  1307.000000   964.000000     1.000000  "
      ]
     },
     "execution_count": 4,
     "metadata": {},
     "output_type": "execute_result"
    }
   ],
   "source": [
    "data_clean=data.dropna(axis=0)\n",
    "data_clean.describe()"
   ]
  },
  {
   "cell_type": "code",
   "execution_count": 5,
   "id": "256d4c47",
   "metadata": {},
   "outputs": [],
   "source": [
    "list_X=['p_before','p_chamber_pressure_predischarge','t_cd_discharge_request','U_Bt_final','U_CD_final']\n",
    "y=data_clean.b_plasma\n",
    "X=data_clean[list_X]\n",
    "\n",
    "# Séparation des données en ensembles d'entraînement et de validation\n",
    "train_X, val_X, train_y, val_y = train_test_split(X, y, random_state=0)\n",
    "\n"
   ]
  },
  {
   "cell_type": "code",
   "execution_count": 6,
   "id": "7dc79cbe",
   "metadata": {},
   "outputs": [
    {
     "name": "stdout",
     "output_type": "stream",
     "text": [
      "Max leaf nodes: 84 \t Accuracy:  0.8114\n"
     ]
    }
   ],
   "source": [
    "def get_acc(max_leaf_nodes, train_X, val_X, train_y, val_y):\n",
    "    model = DecisionTreeClassifier(max_leaf_nodes=max_leaf_nodes, random_state=0)\n",
    "    model.fit(train_X, train_y)\n",
    "    preds_val = model.predict(val_X)\n",
    "    acc = accuracy_score(val_y, preds_val)\n",
    "    return(acc)\n",
    "maxi=0\n",
    "i_max=0\n",
    "for max_leaf_nodes in range(2,1000):\n",
    "    accuracy = get_acc(max_leaf_nodes, train_X, val_X, train_y, val_y)\n",
    "    if maxi<accuracy:\n",
    "        maxi=accuracy\n",
    "        i_max=max_leaf_nodes\n",
    "print(\"Max leaf nodes: %d \\t Accuracy:  %.4f\" %(i_max, accuracy))\n"
   ]
  },
  {
   "cell_type": "code",
   "execution_count": 7,
   "id": "d00c3e4e",
   "metadata": {},
   "outputs": [
    {
     "data": {
      "text/plain": [
       "0.8421052631578947"
      ]
     },
     "execution_count": 7,
     "metadata": {},
     "output_type": "execute_result"
    }
   ],
   "source": [
    "model2 = RandomForestClassifier( random_state=0)\n",
    "model2.fit(train_X, train_y)\n",
    "preds_val = model2.predict(val_X)\n",
    "acc = accuracy_score(val_y, preds_val)\n",
    "acc"
   ]
  },
  {
   "cell_type": "code",
   "execution_count": 8,
   "id": "85444deb",
   "metadata": {},
   "outputs": [
    {
     "data": {
      "text/plain": [
       "0.8421052631578947"
      ]
     },
     "execution_count": 8,
     "metadata": {},
     "output_type": "execute_result"
    }
   ],
   "source": [
    "\n",
    "train_X, val_X, train_y, val_y = train_test_split(X, y, test_size=0.25, random_state=0)\n",
    "model2 = RandomForestClassifier(random_state=0)\n",
    "model2.fit(train_X, train_y)\n",
    "preds_val = model2.predict(val_X)\n",
    "acc = accuracy_score(val_y, preds_val)\n",
    "acc\n"
   ]
  },
  {
   "cell_type": "code",
   "execution_count": 9,
   "id": "4ee2b5a0",
   "metadata": {},
   "outputs": [
    {
     "name": "stdout",
     "output_type": "stream",
     "text": [
      "Scores de validation croisée : [0.80547945 0.67032967 0.8489011  0.66483516 0.72252747]\n",
      "Score moyen de validation croisée : 0.7424145717296402\n"
     ]
    }
   ],
   "source": [
    "from sklearn.model_selection import cross_val_score\n",
    "\n",
    "scores = cross_val_score(model2, X, y, cv=5)  \n",
    "\n",
    "print(\"Scores de validation croisée :\", scores)\n",
    "\n",
    "mean_score = scores.mean()\n",
    "print(\"Score moyen de validation croisée :\", mean_score)"
   ]
  },
  {
   "cell_type": "code",
   "execution_count": 10,
   "id": "f60d3713",
   "metadata": {},
   "outputs": [
    {
     "name": "stderr",
     "output_type": "stream",
     "text": [
      "/home/tmc/.local/lib/python3.10/site-packages/sklearn/base.py:439: UserWarning: X does not have valid feature names, but RandomForestClassifier was fitted with feature names\n",
      "  warnings.warn(\n"
     ]
    },
    {
     "data": {
      "text/plain": [
       "array([1.])"
      ]
     },
     "execution_count": 10,
     "metadata": {},
     "output_type": "execute_result"
    }
   ],
   "source": [
    "model2.predict(np.array([0.82,11,0,800,450]).reshape(1, -1)) #42317"
   ]
  },
  {
   "cell_type": "code",
   "execution_count": 11,
   "id": "0ec38ccb",
   "metadata": {},
   "outputs": [
    {
     "name": "stderr",
     "output_type": "stream",
     "text": [
      "/home/tmc/.local/lib/python3.10/site-packages/sklearn/base.py:439: UserWarning: X does not have valid feature names, but RandomForestClassifier was fitted with feature names\n",
      "  warnings.warn(\n"
     ]
    },
    {
     "data": {
      "text/plain": [
       "array([1.])"
      ]
     },
     "execution_count": 11,
     "metadata": {},
     "output_type": "execute_result"
    }
   ],
   "source": [
    "model2.predict(np.array([0.81,14.9,1000,800,500]).reshape(1, -1)) #42318"
   ]
  },
  {
   "cell_type": "code",
   "execution_count": 12,
   "id": "a54db3e0",
   "metadata": {},
   "outputs": [
    {
     "name": "stderr",
     "output_type": "stream",
     "text": [
      "/home/tmc/.local/lib/python3.10/site-packages/sklearn/base.py:439: UserWarning: X does not have valid feature names, but RandomForestClassifier was fitted with feature names\n",
      "  warnings.warn(\n"
     ]
    },
    {
     "data": {
      "text/plain": [
       "array([1.])"
      ]
     },
     "execution_count": 12,
     "metadata": {},
     "output_type": "execute_result"
    }
   ],
   "source": [
    "model2.predict(np.array([0.81,31.5,0,800,450]).reshape(1, -1)) #42316"
   ]
  },
  {
   "cell_type": "code",
   "execution_count": 13,
   "id": "3cd42076",
   "metadata": {},
   "outputs": [
    {
     "name": "stderr",
     "output_type": "stream",
     "text": [
      "/home/tmc/.local/lib/python3.10/site-packages/sklearn/base.py:439: UserWarning: X does not have valid feature names, but RandomForestClassifier was fitted with feature names\n",
      "  warnings.warn(\n"
     ]
    },
    {
     "data": {
      "text/plain": [
       "array([0.])"
      ]
     },
     "execution_count": 13,
     "metadata": {},
     "output_type": "execute_result"
    }
   ],
   "source": [
    "model2.predict(np.array([0.81,10.1,20000,1000,600]).reshape(1, -1)) #42312"
   ]
  },
  {
   "cell_type": "code",
   "execution_count": 14,
   "id": "7781afc9",
   "metadata": {},
   "outputs": [
    {
     "name": "stderr",
     "output_type": "stream",
     "text": [
      "/home/tmc/.local/lib/python3.10/site-packages/sklearn/base.py:439: UserWarning: X does not have valid feature names, but RandomForestClassifier was fitted with feature names\n",
      "  warnings.warn(\n"
     ]
    },
    {
     "data": {
      "text/plain": [
       "array([0.])"
      ]
     },
     "execution_count": 14,
     "metadata": {},
     "output_type": "execute_result"
    }
   ],
   "source": [
    "model2.predict(np.array([0.81,3.03,0,1000,300]).reshape(1, -1)) #42307"
   ]
  },
  {
   "cell_type": "code",
   "execution_count": 15,
   "id": "d4700cfa",
   "metadata": {},
   "outputs": [
    {
     "name": "stderr",
     "output_type": "stream",
     "text": [
      "/home/tmc/.local/lib/python3.10/site-packages/sklearn/base.py:439: UserWarning: X does not have valid feature names, but RandomForestClassifier was fitted with feature names\n",
      "  warnings.warn(\n"
     ]
    },
    {
     "data": {
      "text/plain": [
       "array([1.])"
      ]
     },
     "execution_count": 15,
     "metadata": {},
     "output_type": "execute_result"
    }
   ],
   "source": [
    "model2.predict(np.array([0.81,10.3,1700,800,600]).reshape(1, -1)) #42300"
   ]
  },
  {
   "cell_type": "code",
   "execution_count": 16,
   "id": "dfb7a7db",
   "metadata": {},
   "outputs": [
    {
     "name": "stderr",
     "output_type": "stream",
     "text": [
      "/home/tmc/.local/lib/python3.10/site-packages/sklearn/base.py:439: UserWarning: X does not have valid feature names, but RandomForestClassifier was fitted with feature names\n",
      "  warnings.warn(\n"
     ]
    },
    {
     "data": {
      "text/plain": [
       "array([0.])"
      ]
     },
     "execution_count": 16,
     "metadata": {},
     "output_type": "execute_result"
    }
   ],
   "source": [
    "model2.predict(np.array([0.81,4.97,10000,1000,700]).reshape(1, -1)) #42298"
   ]
  },
  {
   "cell_type": "code",
   "execution_count": 17,
   "id": "d9759c8a",
   "metadata": {},
   "outputs": [
    {
     "name": "stderr",
     "output_type": "stream",
     "text": [
      "/home/tmc/.local/lib/python3.10/site-packages/sklearn/base.py:439: UserWarning: X does not have valid feature names, but RandomForestClassifier was fitted with feature names\n",
      "  warnings.warn(\n"
     ]
    },
    {
     "data": {
      "text/plain": [
       "array([0.])"
      ]
     },
     "execution_count": 17,
     "metadata": {},
     "output_type": "execute_result"
    }
   ],
   "source": [
    "model2.predict(np.array([0.81,12.7,10000,1000,600]).reshape(1, -1)) #42298"
   ]
  },
  {
   "cell_type": "code",
   "execution_count": 18,
   "id": "e5fa5138",
   "metadata": {},
   "outputs": [
    {
     "name": "stderr",
     "output_type": "stream",
     "text": [
      "/home/tmc/.local/lib/python3.10/site-packages/sklearn/base.py:439: UserWarning: X does not have valid feature names, but RandomForestClassifier was fitted with feature names\n",
      "  warnings.warn(\n"
     ]
    },
    {
     "data": {
      "text/plain": [
       "array([1.])"
      ]
     },
     "execution_count": 18,
     "metadata": {},
     "output_type": "execute_result"
    }
   ],
   "source": [
    "model2.predict(np.array([0.83,12.7,0,800,550]).reshape(1, -1)) #42298"
   ]
  },
  {
   "cell_type": "code",
   "execution_count": 19,
   "id": "f38ffc61",
   "metadata": {},
   "outputs": [
    {
     "name": "stderr",
     "output_type": "stream",
     "text": [
      "/home/tmc/.local/lib/python3.10/site-packages/sklearn/base.py:439: UserWarning: X does not have valid feature names, but RandomForestClassifier was fitted with feature names\n",
      "  warnings.warn(\n"
     ]
    },
    {
     "data": {
      "text/plain": [
       "array([1.])"
      ]
     },
     "execution_count": 19,
     "metadata": {},
     "output_type": "execute_result"
    }
   ],
   "source": [
    "model2.predict(np.array([0.91,44.2,0,1000,600]).reshape(1, -1)) #42298"
   ]
  },
  {
   "cell_type": "code",
   "execution_count": 20,
   "id": "3dbb65af",
   "metadata": {},
   "outputs": [
    {
     "name": "stderr",
     "output_type": "stream",
     "text": [
      "/home/tmc/.local/lib/python3.10/site-packages/sklearn/base.py:439: UserWarning: X does not have valid feature names, but RandomForestClassifier was fitted with feature names\n",
      "  warnings.warn(\n"
     ]
    },
    {
     "data": {
      "text/plain": [
       "array([1.])"
      ]
     },
     "execution_count": 20,
     "metadata": {},
     "output_type": "execute_result"
    }
   ],
   "source": [
    "model2.predict(np.array([0.91,45,0,1000,600]).reshape(1, -1)) #42298"
   ]
  },
  {
   "cell_type": "code",
   "execution_count": 21,
   "id": "ab28899d",
   "metadata": {},
   "outputs": [
    {
     "name": "stderr",
     "output_type": "stream",
     "text": [
      "/home/tmc/.local/lib/python3.10/site-packages/sklearn/base.py:439: UserWarning: X does not have valid feature names, but RandomForestClassifier was fitted with feature names\n",
      "  warnings.warn(\n"
     ]
    },
    {
     "data": {
      "text/plain": [
       "array([0.])"
      ]
     },
     "execution_count": 21,
     "metadata": {},
     "output_type": "execute_result"
    }
   ],
   "source": [
    "model2.predict(np.array([0.93,61.1,6000,1300,600]).reshape(1, -1)) #42298"
   ]
  },
  {
   "cell_type": "code",
   "execution_count": 23,
   "id": "f0e5dbac",
   "metadata": {},
   "outputs": [
    {
     "data": {
      "text/plain": [
       "[]"
      ]
     },
     "execution_count": 23,
     "metadata": {},
     "output_type": "execute_result"
    }
   ],
   "source": []
  },
  {
   "cell_type": "code",
   "execution_count": null,
   "id": "afb913b2",
   "metadata": {},
   "outputs": [],
   "source": [
    "\n",
    "L1=[]\n",
    "L2=[]\n",
    "L3=[]\n",
    "L4=[]\n",
    "L5=[]\n",
    "L6=[]\n",
    "L7=[]\n",
    "i=0\n",
    "while(True):\n",
    "    L1.append(float(input(\"donner p_bef: \")))\n",
    "    L2.append(input(\"donner p_dis: \"))\n",
    "    L3.append(input(\"donner t_dis: \"))\n",
    "    L4.append(input(\"donner Ubt: \"))\n",
    "    L5.append(input(\"donner Ucd: \"))\n",
    "    L6.append(input(\"0 ou 1: \"))\n",
    "    i+=1\n",
    "    L7\n",
    "new_data=pd.DataFrame(d)"
   ]
  },
  {
   "cell_type": "code",
   "execution_count": null,
   "id": "c57e9b9b",
   "metadata": {},
   "outputs": [],
   "source": [
    "for i in range(len(L3)):\n",
    "    L1[i]=float(L1[i])\n",
    "    L2[i]=float(L2[i])\n",
    "    L3[i]=float(L3[i])\n",
    "    L4[i]=float(L4[i])\n",
    "    L5[i]=float(L5[i])\n",
    "    L6[i]=int(L6[i])\n",
    "        "
   ]
  },
  {
   "cell_type": "code",
   "execution_count": null,
   "id": "5f5a1920",
   "metadata": {},
   "outputs": [],
   "source": [
    "L3"
   ]
  },
  {
   "cell_type": "code",
   "execution_count": null,
   "id": "ac99788b",
   "metadata": {},
   "outputs": [],
   "source": [
    "d={'p_before':L1,'p_chamber_pressure_predischarge':L2,'t_cd_discharge_request':L3,'U_Bt_final':L4,'U_CD_final':L5,'b_plasma':L6}\n",
    "d"
   ]
  },
  {
   "cell_type": "code",
   "execution_count": null,
   "id": "773876ab",
   "metadata": {},
   "outputs": [],
   "source": [
    "new_data=pd.DataFrame(d)"
   ]
  },
  {
   "cell_type": "code",
   "execution_count": null,
   "id": "8c2339c3",
   "metadata": {},
   "outputs": [],
   "source": [
    "new_data.describe()"
   ]
  },
  {
   "cell_type": "code",
   "execution_count": null,
   "id": "fff7ba18",
   "metadata": {},
   "outputs": [],
   "source": [
    "preds_val = model2.predict(new_data[list_X])\n",
    "acc = accuracy_score(new_data.b_plasma, preds_val)\n",
    "acc"
   ]
  },
  {
   "cell_type": "code",
   "execution_count": null,
   "id": "3fc82342",
   "metadata": {},
   "outputs": [],
   "source": []
  }
 ],
 "metadata": {
  "kernelspec": {
   "display_name": "Python 3 (ipykernel)",
   "language": "python",
   "name": "python3"
  },
  "language_info": {
   "codemirror_mode": {
    "name": "ipython",
    "version": 3
   },
   "file_extension": ".py",
   "mimetype": "text/x-python",
   "name": "python",
   "nbconvert_exporter": "python",
   "pygments_lexer": "ipython3",
   "version": "3.10.6"
  }
 },
 "nbformat": 4,
 "nbformat_minor": 5
}
